{
  "nbformat": 4,
  "nbformat_minor": 0,
  "metadata": {
    "kernelspec": {
      "display_name": "Python 3",
      "language": "python",
      "name": "python3"
    },
    "language_info": {
      "codemirror_mode": {
        "name": "ipython",
        "version": 3
      },
      "file_extension": ".py",
      "mimetype": "text/x-python",
      "name": "python",
      "nbconvert_exporter": "python",
      "pygments_lexer": "ipython3",
      "version": "3.6.7"
    },
    "colab": {
      "name": "Methods_and_Classes_V3.ipynb",
      "provenance": [],
      "toc_visible": true,
      "include_colab_link": true
    }
  },
  "cells": [
    {
      "cell_type": "markdown",
      "metadata": {
        "id": "view-in-github",
        "colab_type": "text"
      },
      "source": [
        "<a href=\"https://colab.research.google.com/github/rlone2018/pino_oren/blob/master/Methods_and_Classes_V3.ipynb\" target=\"_parent\"><img src=\"https://colab.research.google.com/assets/colab-badge.svg\" alt=\"Open In Colab\"/></a>"
      ]
    },
    {
      "cell_type": "markdown",
      "metadata": {
        "id": "MVFwuJDrAeIp",
        "colab_type": "text"
      },
      "source": [
        "# Practice Notebook: Methods and Classes"
      ]
    },
    {
      "cell_type": "markdown",
      "metadata": {
        "id": "Cayuvf9CAeIt",
        "colab_type": "text"
      },
      "source": [
        "The code below defines an *Elevator* class. The elevator has a current floor, it also has a top and a bottom floor that are the minimum and maximum floors it can go to. Fill in the blanks to make the elevator go through the floors requested."
      ]
    },
    {
      "cell_type": "code",
      "metadata": {
        "id": "s6LTtQKXAeIv",
        "colab_type": "code",
        "colab": {}
      },
      "source": [
        "class Elevator:\n",
        "    def __init__(self, bottom, top, current):\n",
        "        \"\"\"Initializes the Elevator instance.\"\"\"\n",
        "        self.bottom = bottom\n",
        "        self.top = top\n",
        "        self.current = current\n",
        "    def up(self):\n",
        "        \"\"\"Makes the elevator go up one floor.\"\"\"\n",
        "        if self.current <self.top: \n",
        "            \n",
        "            self.current +=1\n",
        "            \n",
        "    def down(self):\n",
        "        \n",
        "        \"\"\"Makes the elevator go down one floor.\"\"\"\n",
        "        if self.current > self.bottom:\n",
        "        \n",
        "            self.current -= 1\n",
        "           \n",
        "    def go_to(self, floor):\n",
        "        \"\"\"Makes the elevator go to the specific floor.\"\"\"\n",
        "        if floor >= self.bottom and floor <= self.top:\n",
        "            self.current = floor\n",
        "        elif floor < 0:\n",
        "            self.current = self.bottom\n",
        "        else:\n",
        "            self.current = self.top\n",
        "            \n",
        "    def __str__(self):\n",
        "        return \"Current floor: {}\".format(self.current)\n",
        "        \n",
        "\n",
        "elevator = Elevator(-1, 10, 0)"
      ],
      "execution_count": 1,
      "outputs": []
    },
    {
      "cell_type": "markdown",
      "metadata": {
        "id": "TlIZ_Hp9AeI3",
        "colab_type": "text"
      },
      "source": [
        "This class is pretty empty and doesn't do much.  To test whether your *Elevator* class is working correctly, run the code blocks below."
      ]
    },
    {
      "cell_type": "code",
      "metadata": {
        "id": "3kExKqs0AeI4",
        "colab_type": "code",
        "colab": {
          "base_uri": "https://localhost:8080/",
          "height": 34
        },
        "outputId": "5db60707-6917-4f49-eb4d-d417825dac4c"
      },
      "source": [
        "elevator.up() \n",
        "elevator.current #should output 1"
      ],
      "execution_count": 2,
      "outputs": [
        {
          "output_type": "execute_result",
          "data": {
            "text/plain": [
              "1"
            ]
          },
          "metadata": {
            "tags": []
          },
          "execution_count": 2
        }
      ]
    },
    {
      "cell_type": "code",
      "metadata": {
        "id": "0e4U0QLWAeI_",
        "colab_type": "code",
        "colab": {
          "base_uri": "https://localhost:8080/",
          "height": 34
        },
        "outputId": "acb70b43-e9a9-46ba-8f88-726bb11a9011"
      },
      "source": [
        "elevator.down() \n",
        "elevator.current #should output 0"
      ],
      "execution_count": 3,
      "outputs": [
        {
          "output_type": "execute_result",
          "data": {
            "text/plain": [
              "0"
            ]
          },
          "metadata": {
            "tags": []
          },
          "execution_count": 3
        }
      ]
    },
    {
      "cell_type": "code",
      "metadata": {
        "id": "bgHJEc2MAeJE",
        "colab_type": "code",
        "colab": {
          "base_uri": "https://localhost:8080/",
          "height": 34
        },
        "outputId": "17e2fe99-5138-42af-b160-00db239e5c92"
      },
      "source": [
        "elevator.go_to(10) \n",
        "elevator.current #should output 10"
      ],
      "execution_count": 4,
      "outputs": [
        {
          "output_type": "execute_result",
          "data": {
            "text/plain": [
              "10"
            ]
          },
          "metadata": {
            "tags": []
          },
          "execution_count": 4
        }
      ]
    },
    {
      "cell_type": "markdown",
      "metadata": {
        "id": "-N6y4ajqAeJK",
        "colab_type": "text"
      },
      "source": [
        "Once you've made the above methods output 1, 0 and 10, you've successfully coded the *Elevator* class and its methods. Great work!\n",
        "<br><br>\n",
        "For the up and down methods, did you take into account the top and bottom floors? Keep in mind that the elevator shouldn't go above the top floor or below the bottom floor. To check that out, try the code below and verify if it's working as expected. If it's not, then go back and modify the methods so that this code behaves correctly."
      ]
    },
    {
      "cell_type": "code",
      "metadata": {
        "id": "EOV2VsRnAeJL",
        "colab_type": "code",
        "colab": {
          "base_uri": "https://localhost:8080/",
          "height": 51
        },
        "outputId": "20ee7d40-0aef-4cc1-f217-8a89af06b1a9"
      },
      "source": [
        "# Go to the top floor. Try to go up, it should stay. Then go down.\n",
        "elevator.go_to(10)\n",
        "elevator.up()\n",
        "elevator.down()\n",
        "print(elevator.current) # should be 9\n",
        "# Go to the bottom floor. Try to go down, it should stay. Then go up.\n",
        "elevator.go_to(-1)\n",
        "elevator.down()\n",
        "elevator.down()\n",
        "elevator.up()\n",
        "elevator.up()\n",
        "print(elevator.current) # should be 1"
      ],
      "execution_count": 5,
      "outputs": [
        {
          "output_type": "stream",
          "text": [
            "9\n",
            "1\n"
          ],
          "name": "stdout"
        }
      ]
    },
    {
      "cell_type": "markdown",
      "metadata": {
        "id": "OLIUi3WwAeJR",
        "colab_type": "text"
      },
      "source": [
        "Now add the __str__ method to your *Elevator* class definition above so that when printing the elevator using the **print( )** method, we get the current floor together with a message. For example, in the 5th floor it should say \"Current floor: 5\""
      ]
    },
    {
      "cell_type": "code",
      "metadata": {
        "id": "0pFgY0U8AeJS",
        "colab_type": "code",
        "colab": {
          "base_uri": "https://localhost:8080/",
          "height": 34
        },
        "outputId": "aef56e5a-6358-4bd4-9892-15b4ab8205a4"
      },
      "source": [
        "elevator.go_to(5)\n",
        "print(elevator)"
      ],
      "execution_count": 6,
      "outputs": [
        {
          "output_type": "stream",
          "text": [
            "Current floor: 5\n"
          ],
          "name": "stdout"
        }
      ]
    },
    {
      "cell_type": "markdown",
      "metadata": {
        "id": "h2NEO_WHAeJc",
        "colab_type": "text"
      },
      "source": [
        "Remember, Python uses the default method, that prints the position where the object is stored in the computer’s memory.  If your output is something like: <br>\n",
        "> <__main__.Elevator object at 0x7ff6a9ff3fd0>\n",
        "\n",
        "Then you will need to add the special __str__ method, which returns the string that you want to print.  Try again until you get the desired output, \"Current floor: 5\"."
      ]
    },
    {
      "cell_type": "markdown",
      "metadata": {
        "id": "1TyNIAL8AeJf",
        "colab_type": "text"
      },
      "source": [
        "Once you have successfully produced the desired output, you are all done with this practice notebook. Awesome!"
      ]
    },
    {
      "cell_type": "code",
      "metadata": {
        "id": "RBK_t0q7AeJg",
        "colab_type": "code",
        "colab": {}
      },
      "source": [
        ""
      ],
      "execution_count": 6,
      "outputs": []
    }
  ]
}